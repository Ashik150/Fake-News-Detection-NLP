{
 "cells": [
  {
   "cell_type": "code",
   "execution_count": null,
   "id": "4c5982c3-238b-4c71-9a4f-97817f46d5e7",
   "metadata": {},
   "outputs": [],
   "source": [
    "import pandas as pd\n",
    "import numpy as np\n",
    "import seaborn as sns\n",
    "import matplotlib.pyplot as plt\n",
    "from sklearn.model_selection import train_test_split\n",
    "from sklearn.feature_extraction.text import TfidfVectorizer\n",
    "from sklearn.naive_bayes import MultinomialNB, BernoulliNB\n",
    "from sklearn.linear_model import LogisticRegression\n",
    "from sklearn.metrics import accuracy_score, confusion_matrix, roc_auc_score, roc_curve, classification_report\n",
    "from wordcloud import WordCloud\n",
    "from nltk.tokenize import word_tokenize\n",
    "from nltk.corpus import stopwords\n",
    "from nltk.stem import WordNetLemmatizer\n",
    "import plotly.express as px\n",
    "import string\n",
    "import warnings\n",
    "warnings.filterwarnings('ignore')"
   ]
  },
  {
   "cell_type": "markdown",
   "id": "c5c41031-5fd0-47c7-9110-c2e2b20c6d5e",
   "metadata": {},
   "source": [
    "Load the Dataset"
   ]
  },
  {
   "cell_type": "code",
   "execution_count": null,
   "id": "5e71935f-8f90-43d1-9f9e-0e2e7ad18eb6",
   "metadata": {},
   "outputs": [],
   "source": [
    "data = pd.read_csv(\"C:\\\\Users\\\\HP\\\\Downloads\\\\Datasets\\\\WELFake_Dataset.csv\")\n",
    "data.head()"
   ]
  },
  {
   "cell_type": "code",
   "execution_count": null,
   "id": "938101be-b324-4c49-b09e-9314c21e0cf6",
   "metadata": {},
   "outputs": [],
   "source": [
    "data['text'][0]"
   ]
  },
  {
   "cell_type": "code",
   "execution_count": null,
   "id": "c2b55912-8b08-487e-88ed-4e860ccc6818",
   "metadata": {},
   "outputs": [],
   "source": [
    "data.drop('Unnamed: 0' , axis =1, inplace = True)"
   ]
  },
  {
   "cell_type": "code",
   "execution_count": null,
   "id": "7dc83d7e-eeeb-45c3-9a82-f6b347de757d",
   "metadata": {},
   "outputs": [],
   "source": [
    "data.info()"
   ]
  },
  {
   "cell_type": "code",
   "execution_count": null,
   "id": "3297e04a-cc8c-4192-b7d7-3925c8027e20",
   "metadata": {},
   "outputs": [],
   "source": [
    "data.isnull().sum()"
   ]
  },
  {
   "cell_type": "markdown",
   "id": "7802c19b-b8ee-4744-8779-9c554642e072",
   "metadata": {},
   "source": [
    "Handle Null Values and Feature Seperation"
   ]
  },
  {
   "cell_type": "code",
   "execution_count": null,
   "id": "d1d8aa1e-3005-41fa-9932-7ba1aa0d5972",
   "metadata": {},
   "outputs": [],
   "source": [
    "data.fillna(' ', inplace = True)\n",
    "features = data[['title','text']]\n",
    "labels = data['label']"
   ]
  },
  {
   "cell_type": "code",
   "execution_count": null,
   "id": "e380370e-7e57-453c-9d38-dd43add2852b",
   "metadata": {},
   "outputs": [],
   "source": [
    "data.isnull().sum()"
   ]
  },
  {
   "cell_type": "code",
   "execution_count": null,
   "id": "db3b4256-e5a9-4cc7-aac1-2a904dec9ad9",
   "metadata": {},
   "outputs": [],
   "source": [
    "label_Status = data['label'].value_counts()\n",
    "transactions = label_Status.index\n",
    "quantity = label_Status.values\n",
    "\n",
    "figure = px.pie(data, \n",
    "             values=quantity, \n",
    "             names=transactions, hole =.60, \n",
    "             title=\"Spam & Ham Status\")\n",
    "figure.show()"
   ]
  },
  {
   "cell_type": "markdown",
   "id": "218a0265-2a04-45fb-9429-5bec44007bed",
   "metadata": {},
   "source": [
    "Create Word Clouds"
   ]
  },
  {
   "cell_type": "code",
   "execution_count": null,
   "id": "6a21508e-67f7-4f24-bc5d-ae4882dbee04",
   "metadata": {},
   "outputs": [],
   "source": [
    "def plot_wordcloud(text, title):\n",
    "    wordcloud = WordCloud(width=800, height=400, background_color='white').generate(text)\n",
    "    plt.figure(figsize=(10, 5))\n",
    "    plt.imshow(wordcloud, interpolation='bilinear')\n",
    "    plt.axis('off')\n",
    "    plt.title(title)\n",
    "\n",
    "fake_text = ' '.join(data[data['label'] == 0]['text'])\n",
    "real_text = ' '.join(data[data['label'] == 1]['text'])"
   ]
  },
  {
   "cell_type": "code",
   "execution_count": null,
   "id": "b7d7e6e8-f3d0-43c9-9f1b-1f573b5e03c4",
   "metadata": {},
   "outputs": [],
   "source": [
    "plot_wordcloud(fake_text,'Fake News')\n",
    "plt.show()"
   ]
  },
  {
   "cell_type": "code",
   "execution_count": null,
   "id": "a376e175-089c-47de-bed8-83061ad86c6b",
   "metadata": {},
   "outputs": [],
   "source": [
    "plot_wordcloud(real_text,'Real News')\n",
    "plt.show()"
   ]
  },
  {
   "cell_type": "markdown",
   "id": "315189ef-aa52-453c-9b46-dd006e502346",
   "metadata": {},
   "source": [
    "Text Preprocessing"
   ]
  },
  {
   "cell_type": "code",
   "execution_count": null,
   "id": "0810aa1c-f3ba-4389-b9d4-07003691f012",
   "metadata": {},
   "outputs": [],
   "source": [
    "text_column = 'text'\n",
    "label_column = 'label'"
   ]
  },
  {
   "cell_type": "code",
   "execution_count": null,
   "id": "c48f6e40-435e-43be-a831-8acaee1a7e2b",
   "metadata": {},
   "outputs": [],
   "source": [
    "import nltk\n",
    "nltk.download('stopwords')\n",
    "stopword = set(stopwords.words('english'))\n",
    "stopword"
   ]
  },
  {
   "cell_type": "code",
   "execution_count": null,
   "id": "7adcad01-ce91-44fa-91de-3b3da664b0a1",
   "metadata": {},
   "outputs": [],
   "source": [
    "def preprocess_text(text):\n",
    "    # Remove punctuation\n",
    "    remove_punc = [char for char in text if char not in string.punctuation]\n",
    "    clean_words = ''.join(remove_punc) # char joining\n",
    "    \n",
    "    #Remove stopwords\n",
    "    text = ([word for word in clean_words.split() if word.lower() not in stopword]) # stopword = stopwords.words('english')\n",
    "    return text"
   ]
  },
  {
   "cell_type": "code",
   "execution_count": null,
   "id": "0b3a8bc3-f96d-4ba6-a121-5c83a1b565f7",
   "metadata": {},
   "outputs": [],
   "source": [
    "data[text_column] = data[text_column].apply(preprocess_text)"
   ]
  },
  {
   "cell_type": "code",
   "execution_count": null,
   "id": "8053e49c-92ed-4f2a-ba59-bf06a2508394",
   "metadata": {},
   "outputs": [],
   "source": [
    "data[text_column]"
   ]
  },
  {
   "cell_type": "markdown",
   "id": "af175b48-ee96-4adf-a0a6-7d829a455c7d",
   "metadata": {},
   "source": [
    "Lemmatization"
   ]
  },
  {
   "cell_type": "code",
   "execution_count": null,
   "id": "e9f1c83c-3451-49ed-bed1-160d8687acd7",
   "metadata": {},
   "outputs": [],
   "source": [
    "nltk.download('wordnet')\n",
    "lemmatizer = WordNetLemmatizer()\n",
    "\n",
    "def lemmatize_text(text):\n",
    "    lemmatized_text = ' '.join([lemmatizer.lemmatize(word) for word in text])\n",
    "    return lemmatized_text\n",
    "\n",
    "data[text_column] = data[text_column].apply(lemmatize_text)"
   ]
  },
  {
   "cell_type": "code",
   "execution_count": null,
   "id": "55d1986c-b71a-4309-bf8a-be5a430fc5e6",
   "metadata": {},
   "outputs": [],
   "source": [
    "data[text_column]"
   ]
  },
  {
   "cell_type": "markdown",
   "id": "c89c05f2-803d-4203-b0f2-503690284c3d",
   "metadata": {},
   "source": [
    "TF/Df Vectorization"
   ]
  },
  {
   "cell_type": "code",
   "execution_count": null,
   "id": "415bf33d-73e3-47c4-a0f2-6686c9aeb4c6",
   "metadata": {},
   "outputs": [],
   "source": [
    "vectorizer = TfidfVectorizer()\n",
    "\n",
    "x = vectorizer.fit_transform(data[text_column])\n",
    "y = data[label_column]"
   ]
  },
  {
   "cell_type": "code",
   "execution_count": null,
   "id": "45825b8f-1237-4fbc-af99-41421050c2ca",
   "metadata": {},
   "outputs": [],
   "source": [
    "x"
   ]
  },
  {
   "cell_type": "markdown",
   "id": "ec3c84c5-8a67-499c-b554-0afed694684f",
   "metadata": {},
   "source": [
    "Split dataset"
   ]
  },
  {
   "cell_type": "code",
   "execution_count": null,
   "id": "42a90d47-dbf1-497d-a963-03c9cb3264fd",
   "metadata": {},
   "outputs": [],
   "source": [
    "xtrain,xtest,ytrain,ytest = train_test_split(x,labels,test_size=0.3,random_state=42)"
   ]
  },
  {
   "cell_type": "markdown",
   "id": "8966e875-f3da-4725-ac54-de365d021d36",
   "metadata": {},
   "source": [
    "Evaluate Naive Bias"
   ]
  },
  {
   "cell_type": "code",
   "execution_count": null,
   "id": "3a6bcc40-3dd0-469e-aae3-84ae5e4e6b51",
   "metadata": {},
   "outputs": [],
   "source": [
    "def evaluate_model(model, xtest, ytest):\n",
    "    y_pred = model.predict(xtest)\n",
    "    accuracy = accuracy_score(ytest, y_pred)\n",
    "    cm = confusion_matrix(ytest, y_pred)\n",
    "    prob = model.predict_proba(xtest)[:, 1]\n",
    "    roc_auc = roc_auc_score(ytest, prob)\n",
    "    fpr, tpr, thresholds = roc_curve(ytest, prob)\n",
    "    precision, recall, _ = precision_recall_curve(ytest, prob)\n",
    "    pr_auc = auc(recall, precision)\n",
    "    \n",
    "    return {\n",
    "        'Accuracy': accuracy,\n",
    "        'Confusion Matrix': cm,\n",
    "    }"
   ]
  },
  {
   "cell_type": "markdown",
   "id": "67629bf3-a50f-47be-b184-5441a015842f",
   "metadata": {},
   "source": [
    "Build Naive Bias Models"
   ]
  },
  {
   "cell_type": "code",
   "execution_count": null,
   "id": "aaa1523e-bd13-4d52-98a4-236c8ab0e979",
   "metadata": {},
   "outputs": [],
   "source": [
    "mnb_model = MultinomialNB(alpha=1.0, fit_prior=True, class_prior=None)\n",
    "mnb_model.fit(xtrain, ytrain)"
   ]
  },
  {
   "cell_type": "code",
   "execution_count": null,
   "id": "ece88aa4-f82d-44c5-81c7-dd8b1f5760c5",
   "metadata": {},
   "outputs": [],
   "source": [
    "from sklearn.metrics import precision_recall_curve, auc"
   ]
  },
  {
   "cell_type": "code",
   "execution_count": null,
   "id": "adf3ea32-50be-4344-8832-6d3210990997",
   "metadata": {},
   "outputs": [],
   "source": [
    "nb_results = evaluate_model(mnb_model, xtest, ytest)\n",
    "nb_results"
   ]
  },
  {
   "cell_type": "markdown",
   "id": "b2eaa390-9ecd-4539-be9a-b22dea40980b",
   "metadata": {},
   "source": [
    "Apply Logistic Regression"
   ]
  },
  {
   "cell_type": "code",
   "execution_count": null,
   "id": "08306642-f0fe-4280-a009-1bc783b500f8",
   "metadata": {},
   "outputs": [],
   "source": [
    "lr_model = LogisticRegression(max_iter=1000)"
   ]
  },
  {
   "cell_type": "code",
   "execution_count": null,
   "id": "f8809ed0-4acf-42b8-907f-0349b27560a0",
   "metadata": {},
   "outputs": [],
   "source": [
    "lr_model.fit(xtrain,ytrain)"
   ]
  },
  {
   "cell_type": "markdown",
   "id": "06430a5d-ccbe-4602-ac67-03ebd77e96c9",
   "metadata": {},
   "source": [
    "Evaluate Logistic Regression"
   ]
  },
  {
   "cell_type": "code",
   "execution_count": null,
   "id": "9f56bcad-62ed-4122-88cf-3928b94ef813",
   "metadata": {},
   "outputs": [],
   "source": [
    "lr_results = evaluate_model(lr_model,xtest,ytest)\n",
    "lr_results"
   ]
  },
  {
   "cell_type": "markdown",
   "id": "8c7504a7-3a09-4707-8aff-fd0efec4964f",
   "metadata": {},
   "source": [
    "Visualization"
   ]
  },
  {
   "cell_type": "code",
   "execution_count": null,
   "id": "782dc96c-679a-4bf9-8ff3-7afa42f7af1d",
   "metadata": {},
   "outputs": [],
   "source": [
    "def plot_histogram(metric_values, model_names, metric_name):\n",
    "    fig, ax = plt.subplots(figsize=(10, 5))\n",
    "    bars = plt.bar(model_names, metric_values)\n",
    "    plt.xlabel('Models')\n",
    "    plt.ylabel(metric_name)\n",
    "    plt.title(f'{metric_name} for Different Models')\n",
    "    \n",
    "    for bar in bars:\n",
    "        yval = bar.get_height()\n",
    "        ax.text(bar.get_x() + bar.get_width()/2, yval, round(yval, 3), ha='center', va='bottom', color='black', fontweight='bold')\n",
    "\n",
    "    plt.show()\n",
    "\n",
    "accuracy_values = [nb_results['Accuracy'], lr_results['Accuracy']]\n",
    "model_names = ['Multinomial Naive Bayes', 'Logistic Regression']\n",
    "plot_histogram(accuracy_values, model_names, 'Accuracy')"
   ]
  },
  {
   "cell_type": "markdown",
   "id": "be0d2f10-1a68-4fa2-b039-1f979f177ec9",
   "metadata": {},
   "source": [
    "OutPut Random Text to Make Prediction"
   ]
  },
  {
   "cell_type": "code",
   "execution_count": null,
   "id": "a71a2e37-9c5c-4f73-b1a0-c53621cff2ba",
   "metadata": {},
   "outputs": [],
   "source": [
    "models = [mnb_model, lr_model]"
   ]
  },
  {
   "cell_type": "code",
   "execution_count": null,
   "id": "47a933d8-9945-452c-b666-d5e483f381d0",
   "metadata": {},
   "outputs": [],
   "source": [
    "random_text = input()\n",
    "\n",
    "preprocessed_text = preprocess_text(random_text) # remove punctuation \n",
    "lemmatized_text = lemmatize_text(preprocessed_text) # text scaling\n",
    "text_vector = vectorizer.transform([lemmatized_text])"
   ]
  },
  {
   "cell_type": "code",
   "execution_count": null,
   "id": "77c5c30c-20f6-49cc-a4b0-bb256cf0a987",
   "metadata": {},
   "outputs": [],
   "source": [
    "preprocessed_text"
   ]
  },
  {
   "cell_type": "code",
   "execution_count": null,
   "id": "7f221176-7977-404a-a7bf-7f7d31d226e3",
   "metadata": {},
   "outputs": [],
   "source": [
    "lemmatized_text"
   ]
  },
  {
   "cell_type": "code",
   "execution_count": null,
   "id": "aca5e80e-9d60-4c69-9381-c866273bbfe7",
   "metadata": {},
   "outputs": [],
   "source": [
    "text_vector"
   ]
  },
  {
   "cell_type": "code",
   "execution_count": null,
   "id": "98dfd58c-8d71-4f9e-9d5f-152b1737012b",
   "metadata": {},
   "outputs": [],
   "source": [
    "text_vector.toarray()"
   ]
  },
  {
   "cell_type": "code",
   "execution_count": null,
   "id": "2dc5d2e8-06e3-42f7-932d-960fb6b97ebb",
   "metadata": {},
   "outputs": [],
   "source": [
    "for model in models:\n",
    "    prediction = model.predict(text_vector)\n",
    "    print(f\"Model: {type(model).__name__}\")\n",
    "    print(\"Prediction:\", prediction)\n",
    "    print('\\n')"
   ]
  },
  {
   "cell_type": "markdown",
   "id": "9aebee4e-9b74-4f56-acea-ae5c04fc7ff9",
   "metadata": {},
   "source": [
    "Saving the Model"
   ]
  },
  {
   "cell_type": "code",
   "execution_count": null,
   "id": "65d4529b-8d03-4355-b786-339a8d3e7ba0",
   "metadata": {},
   "outputs": [],
   "source": [
    "import  pickle\n",
    "\n",
    "model_file_path = \"C:\\\\Users\\\\HP\\\\Desktop\\\\Fake_News_detection_NLP\\\\FND.pkl\"\n",
    "\n",
    "# Save the model to the file\n",
    "with open(model_file_path, 'wb') as model_file:\n",
    "    pickle.dump(lr_model, model_file)"
   ]
  },
  {
   "cell_type": "markdown",
   "id": "db2b5296-86da-47c8-b1b2-babb572d4a95",
   "metadata": {},
   "source": [
    "Load Model"
   ]
  },
  {
   "cell_type": "code",
   "execution_count": null,
   "id": "4d5ba39c-5720-4585-bf56-d17a5b89bd81",
   "metadata": {},
   "outputs": [],
   "source": [
    "with open(model_file_path, 'rb') as model_file:\n",
    "    loaded_LR = pickle.load(model_file)"
   ]
  },
  {
   "cell_type": "code",
   "execution_count": null,
   "id": "8e56d716-161e-4252-acd5-0ce90efeed24",
   "metadata": {},
   "outputs": [],
   "source": []
  }
 ],
 "metadata": {
  "kernelspec": {
   "display_name": "Python 3 (ipykernel)",
   "language": "python",
   "name": "python3"
  },
  "language_info": {
   "codemirror_mode": {
    "name": "ipython",
    "version": 3
   },
   "file_extension": ".py",
   "mimetype": "text/x-python",
   "name": "python",
   "nbconvert_exporter": "python",
   "pygments_lexer": "ipython3",
   "version": "3.12.7"
  }
 },
 "nbformat": 4,
 "nbformat_minor": 5
}
